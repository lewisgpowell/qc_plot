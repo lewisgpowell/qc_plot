{
 "cells": [
  {
   "cell_type": "markdown",
   "metadata": {},
   "source": [
    "# Live plotting of data\n",
    "\n",
    "In this notebook we will demonstrate how to view data live through the web interface.\n",
    "\n",
    "First, the necessary imports"
   ]
  },
  {
   "cell_type": "code",
   "execution_count": null,
   "metadata": {},
   "outputs": [],
   "source": [
    "import os\n",
    "from time import sleep\n",
    "\n",
    "import numpy as np\n",
    "\n",
    "import qcodes as qc\n",
    "from qcodes.dataset import (\n",
    "    Measurement,\n",
    "    initialise_or_create_database_at,\n",
    "    load_or_create_experiment,\n",
    ")\n",
    "from qcodes.instrument_drivers.mock_instruments import (\n",
    "    DummyInstrument,\n",
    "    DummyInstrumentWithMeasurement,\n",
    ")\n",
    "\n",
    "import panel_gui\n",
    "import IPython.lib.backgroundjobs as bg"
   ]
  },
  {
   "cell_type": "markdown",
   "metadata": {},
   "source": [
    "# Mock set-up\n",
    "\n",
    "We'll use simulated instruments from qcodes to make a mock setup"
   ]
  },
  {
   "cell_type": "code",
   "execution_count": null,
   "metadata": {},
   "outputs": [],
   "source": [
    "dac = DummyInstrument(\"dac\", gates=[\"ch1\", \"ch2\"])\n",
    "dmm = DummyInstrumentWithMeasurement(name=\"dmm\", setter_instr=dac)\n",
    "\n",
    "station = qc.Station(dmm, dac)"
   ]
  },
  {
   "cell_type": "markdown",
   "metadata": {},
   "source": [
    "# Initialize or create the database\n",
    "Let's initialize the database using qcodes or create one if it doesn't already exist\n",
    "We'll also register the experiment and sample names which will be viewable from the plotting interface"
   ]
  },
  {
   "cell_type": "code",
   "execution_count": null,
   "metadata": {},
   "outputs": [],
   "source": [
    "db_file_path = os.path.join(os.getcwd(), \"live_plotting_tutorial.db\")\n",
    "initialise_or_create_database_at(db_file_path)\n",
    "exp = load_or_create_experiment(\n",
    "    experiment_name=\"live_plotting\",\n",
    "    sample_name=\"no sample\",\n",
    ")"
   ]
  },
  {
   "cell_type": "markdown",
   "metadata": {},
   "source": [
    "# Launch the plotting interface in the background\n",
    "\n",
    "Running this cell should open a new tab in your default browser with the plotting interface.\n",
    "If it does not open you can click the link instead\n",
    "To begin with, there will be no data in the database so nothing will be plotted"
   ]
  },
  {
   "cell_type": "code",
   "execution_count": null,
   "metadata": {},
   "outputs": [],
   "source": [
    "jobs = bg.BackgroundJobManager()\n",
    "jobs.new(panel_gui.serve_app, 'live_plotting_tutorial.db')"
   ]
  },
  {
   "cell_type": "markdown",
   "metadata": {},
   "source": [
    "# Generate some data and watch it plot live\n",
    "On the web interface, make sure to click 'Refresh'. This will set the plotting interface to periodically check for new data and plot it (every 3 seconds).\n",
    "Then, run the following cell to run a fake experiment using one of the qcodes dummy instruments.\n",
    "You should see the data automatically plotted in the web interface"
   ]
  },
  {
   "cell_type": "code",
   "execution_count": null,
   "metadata": {},
   "outputs": [],
   "source": [
    "meas = Measurement(exp=exp)\n",
    "meas.register_parameter(dac.ch1)\n",
    "meas.register_parameter(dmm.v1, setpoints=(dac.ch1,))\n",
    "\n",
    "meas.write_period = 0.1\n",
    "\n",
    "with meas.run() as datasaver:\n",
    "    for set_v in np.linspace(0, 25, 100):\n",
    "        dac.ch1.set(set_v)\n",
    "        get_v = dmm.v1.get()\n",
    "        datasaver.add_result((dac.ch1, set_v), (dmm.v1, get_v))\n",
    "        sleep(1)\n",
    "\n",
    "    dataset = datasaver.dataset\n",
    "\n"
   ]
  },
  {
   "cell_type": "markdown",
   "metadata": {},
   "source": [
    "# Live plotting of 2D data\n",
    "The next cell simulates an experiment in which two independent variables are changed and one dependent variable is measured.\n",
    "The plotter automatically plots data as a colourmap when it detects that there are more than one\n",
    "independent variable.\n",
    "Try this out by running the cell. You may have to change the run id in the plotting interface.\n",
    "By playing with 'Slice along' and 'Slice value' in the web interface, it's also possible to plot 1D cuts for particular values of the x or y axis."
   ]
  },
  {
   "cell_type": "code",
   "execution_count": null,
   "metadata": {},
   "outputs": [],
   "source": [
    "meas = Measurement(exp=exp)\n",
    "meas.register_parameter(dac.ch1)\n",
    "meas.register_parameter(dac.ch2)\n",
    "meas.register_parameter(dmm.v1, setpoints=(dac.ch1,dac.ch2))\n",
    "\n",
    "meas.write_period = 0.1\n",
    "\n",
    "with meas.run() as datasaver:\n",
    "    for set_v1 in np.linspace(0, 25, 251):\n",
    "        dac.ch1.set(set_v1)\n",
    "        for set_v2 in np.linspace(0, 25, 251):\n",
    "            dac.ch2.set(set_v2)\n",
    "            get_v = dmm.v1.get()\n",
    "            datasaver.add_result((dac.ch1, set_v1), (dac.ch2, set_v2), (dmm.v1, get_v))\n",
    "            dataset = datasaver.dataset\n",
    "            sleep(0.05)\n",
    "\n",
    "\n"
   ]
  },
  {
   "cell_type": "code",
   "execution_count": null,
   "metadata": {},
   "outputs": [],
   "source": []
  }
 ],
 "metadata": {
  "kernelspec": {
   "display_name": "Python 3",
   "language": "python",
   "name": "python3"
  },
  "language_info": {
   "codemirror_mode": {
    "name": "ipython",
    "version": 3
   },
   "file_extension": ".py",
   "mimetype": "text/x-python",
   "name": "python",
   "nbconvert_exporter": "python",
   "pygments_lexer": "ipython3",
   "version": "3.12.7"
  }
 },
 "nbformat": 4,
 "nbformat_minor": 2
}
